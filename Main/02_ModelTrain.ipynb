{
 "cells": [
  {
   "cell_type": "markdown",
   "metadata": {},
   "source": [
    "## 모델 훈련"
   ]
  },
  {
   "cell_type": "markdown",
   "metadata": {},
   "source": [
    "모델을 만들고, 어떻게 학습하는지 원리에 대해 이해했다면, 이제 모델을 학습시켜봅시다."
   ]
  },
  {
   "cell_type": "markdown",
   "metadata": {},
   "source": [
    "데이터부터 준비하겠습니다"
   ]
  },
  {
   "cell_type": "code",
   "execution_count": 150,
   "metadata": {},
   "outputs": [],
   "source": [
    "from zipfile import ZipFile\n",
    "import pandas as pd\n",
    "import io\n",
    "with ZipFile(\"../Data/고객 대출등급 분류 해커톤.zip\",\"r\") as f:\n",
    "    data=io.BytesIO(f.read(\"고객 대출등급 분류 해커톤/train.csv\"))\n",
    "\n",
    "data=pd.read_csv(data)"
   ]
  },
  {
   "cell_type": "code",
   "execution_count": 151,
   "metadata": {},
   "outputs": [
    {
     "data": {
      "text/plain": [
       "[PhysicalDevice(name='/physical_device:GPU:0', device_type='GPU')]"
      ]
     },
     "execution_count": 151,
     "metadata": {},
     "output_type": "execute_result"
    }
   ],
   "source": [
    "import keras \n",
    "import tensorflow as tf\n",
    "tf.config.list_physical_devices(\"GPU\")"
   ]
  },
  {
   "cell_type": "code",
   "execution_count": 180,
   "metadata": {},
   "outputs": [],
   "source": [
    "from sklearn import model_selection as mod\n",
    "import numpy as np\n",
    "\n",
    "num_cols=list(data.select_dtypes(np.number).columns)\n",
    "cate_cols=[\"대출기간\",\"근로기간\",\"주택소유상태\",\"대출목적\"]\n",
    "\n",
    "use_feature=data[num_cols+cate_cols]\n",
    "label_list=data.대출등급.unique()\n",
    "label_list.sort()\n",
    "\n",
    "use_label=data.대출등급.map(lambda label : np.argmax(label_list==label))\n",
    "\n",
    "train_feature,test_feature,train_label,test_label=mod.train_test_split(\n",
    "    use_feature,use_label,train_size=0.9,stratify=use_label,random_state=1)"
   ]
  },
  {
   "cell_type": "markdown",
   "metadata": {},
   "source": [
    "조금 복잡한 모델을 만들어보죠\n",
    "(Wide&Deep Model)\n",
    "\n",
    "이 모델은 input을 두가지 경로로 받습니다."
   ]
  },
  {
   "cell_type": "code",
   "execution_count": 181,
   "metadata": {},
   "outputs": [],
   "source": [
    "norm_layer=keras.layers.Normalization()\n",
    "norm_layer.adapt(data[num_cols].values)\n",
    "\n",
    "cate_layer=keras.layers.StringLookup()\n",
    "cate_layer.adapt(data[cate_cols].values)"
   ]
  },
  {
   "cell_type": "code",
   "execution_count": 154,
   "metadata": {},
   "outputs": [
    {
     "data": {
      "text/plain": [
       "<tf.Tensor: shape=(3, 4), dtype=int64, numpy=\n",
       "array([[ 1, 19,  4,  2],\n",
       "       [ 5,  6,  3, 13],\n",
       "       [ 1, 15,  3,  2]])>"
      ]
     },
     "execution_count": 154,
     "metadata": {},
     "output_type": "execute_result"
    }
   ],
   "source": [
    "cate_layer(data[cate_cols].values[:3])"
   ]
  },
  {
   "cell_type": "markdown",
   "metadata": {},
   "source": [
    "위의 층간 특징은 따로 다루겠습니다."
   ]
  },
  {
   "cell_type": "code",
   "execution_count": 155,
   "metadata": {},
   "outputs": [],
   "source": [
    "class WD_Model(keras.Model):\n",
    "    def __init__(self,layer_nums:list ,*args, **kwargs):\n",
    "        super().__init__(*args, **kwargs)\n",
    "\n",
    "        self.deep_hidden_layer=keras.layers.Dense(9,activation=\"relu\")\n",
    "        self.wide_hidden_layer=keras.layers.Dense(4,activation=\"relu\")\n",
    "\n",
    "        self.deep_num,self.wide_num=layer_nums\n",
    "\n",
    "        self.output_layer=keras.layers.Dense(7,activation=\"softmax\")\n",
    "\n",
    "    def call(self,inputs):\n",
    "        deep_input,wide_input=inputs\n",
    "\n",
    "        for _ in range(self.deep_num):\n",
    "            deep_input=self.deep_hidden_layer(deep_input)\n",
    "        for _ in range(self.wide_num):\n",
    "            wide_input=self.wide_hidden_layer(wide_input)\n",
    "\n",
    "        outputs=keras.layers.concatenate([deep_input,wide_input])\n",
    "\n",
    "        outputs=self.output_layer(outputs)\n",
    "\n",
    "        return outputs        "
   ]
  },
  {
   "cell_type": "code",
   "execution_count": 156,
   "metadata": {},
   "outputs": [],
   "source": [
    "wd_model=WD_Model([2,2])"
   ]
  },
  {
   "cell_type": "markdown",
   "metadata": {},
   "source": [
    "모델을 훈련시는 단계는 간단합니다.\n",
    "\n",
    "1. compile : 실행환경을 만듭니다\n",
    "2. fit : 실행환경 하에 학습을 시작합니다."
   ]
  },
  {
   "cell_type": "markdown",
   "metadata": {},
   "source": [
    "### Compile\n",
    "\n",
    "아래 각각의 요소는 다음과 같이 호출해 사용가능합니다."
   ]
  },
  {
   "cell_type": "code",
   "execution_count": 183,
   "metadata": {},
   "outputs": [],
   "source": [
    "# gradient를 통한 변화 적용방법 -> optimizer\n",
    "optimizer=keras.optimizers.SGD(learning_rate=0.001,momentum=0.9)\n",
    "\n",
    "# gradient를 계산할 손실함수\n",
    "# 위에서 우리는 label을 정수인코딩을 했습니다(다중클래스 분류)\n",
    "loss=keras.losses.SparseCategoricalCrossentropy()\n",
    "\n",
    "# 성능을 확인할 척도\n",
    "metric_list=[keras.metrics.CategoricalAccuracy()]\n",
    "\n",
    "wd_model.compile(optimizer=optimizer,loss=loss,metrics=metric_list)"
   ]
  },
  {
   "cell_type": "markdown",
   "metadata": {},
   "source": [
    "### fit\n",
    "\n",
    "학습시 호출할 중요한 파라미터 중 하나로 `callbacks`에 대해 알아보죠."
   ]
  },
  {
   "cell_type": "code",
   "execution_count": 158,
   "metadata": {},
   "outputs": [],
   "source": [
    "# 차후 텐서보드를 이용하기 위해서 아래의 callback 요소를 꼭 기억해야합니다\n",
    "keras.callbacks.TensorBoard\n",
    "\n",
    "# 학습 조기 종료 및 최고 성능 모델 복원\n",
    "early_stopping=keras.callbacks.EarlyStopping(monitor=\"val_loss\",patience=3,restore_best_weights=True)\n",
    "\n",
    "# 학습동안의 최대 성능의 모델 저장\n",
    "model_checkopint=keras.callbacks.ModelCheckpoint\n",
    "\n",
    "callback_list=[early_stopping]"
   ]
  },
  {
   "cell_type": "code",
   "execution_count": 159,
   "metadata": {},
   "outputs": [],
   "source": [
    "processed_train=norm_layer(train_feature[num_cols]),cate_layer(train_feature[cate_cols])\n",
    "processed_test=norm_layer(test_feature[num_cols]),cate_layer(test_feature[cate_cols])"
   ]
  },
  {
   "cell_type": "code",
   "execution_count": 160,
   "metadata": {},
   "outputs": [
    {
     "name": "stdout",
     "output_type": "stream",
     "text": [
      "Epoch 1/10\n",
      "\u001b[1m5417/5417\u001b[0m \u001b[32m━━━━━━━━━━━━━━━━━━━━\u001b[0m\u001b[37m\u001b[0m \u001b[1m29s\u001b[0m 5ms/step - categorical_accuracy: 0.0991 - loss: 1.6901 - val_categorical_accuracy: 0.0984 - val_loss: 1.5789\n",
      "Epoch 2/10\n",
      "\u001b[1m5417/5417\u001b[0m \u001b[32m━━━━━━━━━━━━━━━━━━━━\u001b[0m\u001b[37m\u001b[0m \u001b[1m29s\u001b[0m 5ms/step - categorical_accuracy: 0.0948 - loss: 1.5173 - val_categorical_accuracy: 0.0846 - val_loss: 1.5244\n",
      "Epoch 3/10\n",
      "\u001b[1m5417/5417\u001b[0m \u001b[32m━━━━━━━━━━━━━━━━━━━━\u001b[0m\u001b[37m\u001b[0m \u001b[1m29s\u001b[0m 5ms/step - categorical_accuracy: 0.0923 - loss: 1.5776 - val_categorical_accuracy: 0.0839 - val_loss: 2.2229\n",
      "Epoch 4/10\n",
      "\u001b[1m5417/5417\u001b[0m \u001b[32m━━━━━━━━━━━━━━━━━━━━\u001b[0m\u001b[37m\u001b[0m \u001b[1m28s\u001b[0m 5ms/step - categorical_accuracy: 0.0914 - loss: 1.6579 - val_categorical_accuracy: 0.0785 - val_loss: 2.2629\n",
      "Epoch 5/10\n",
      "\u001b[1m5417/5417\u001b[0m \u001b[32m━━━━━━━━━━━━━━━━━━━━\u001b[0m\u001b[37m\u001b[0m \u001b[1m29s\u001b[0m 5ms/step - categorical_accuracy: 0.0947 - loss: 2.7325 - val_categorical_accuracy: 0.1024 - val_loss: 4.3914\n"
     ]
    },
    {
     "data": {
      "text/plain": [
       "<keras.src.callbacks.history.History at 0x36ca36880>"
      ]
     },
     "execution_count": 160,
     "metadata": {},
     "output_type": "execute_result"
    }
   ],
   "source": [
    "wd_model.fit(\n",
    "    x=processed_train,\n",
    "    y=train_label.values,\n",
    "    batch_size=16,\n",
    "    epochs=10,\n",
    "    callbacks=callback_list,\n",
    "    validation_data=(processed_test,test_label.values))"
   ]
  },
  {
   "cell_type": "markdown",
   "metadata": {},
   "source": [
    "이 후 전처리 layer를 합쳐주겠습니다."
   ]
  },
  {
   "cell_type": "code",
   "execution_count": 165,
   "metadata": {},
   "outputs": [],
   "source": [
    "inputs=(keras.layers.Input(shape=(9,)),keras.layers.Input(shape=(4,)))\n",
    "processed_input=(norm_layer(inputs[0]),cate_layer(inputs[1]))\n",
    "outputs=wd_model(processed_input)\n",
    "\n",
    "final_wd_model=keras.Model(inputs=inputs,outputs=outputs)"
   ]
  }
 ],
 "metadata": {
  "kernelspec": {
   "display_name": "DL",
   "language": "python",
   "name": "dl"
  },
  "language_info": {
   "codemirror_mode": {
    "name": "ipython",
    "version": 3
   },
   "file_extension": ".py",
   "mimetype": "text/x-python",
   "name": "python",
   "nbconvert_exporter": "python",
   "pygments_lexer": "ipython3",
   "version": "3.9.6"
  }
 },
 "nbformat": 4,
 "nbformat_minor": 2
}
