{
 "cells": [
  {
   "cell_type": "markdown",
   "metadata": {
    "vscode": {
     "languageId": "plaintext"
    }
   },
   "source": [
    "## Tensorflow Model 만들기\n",
    "\n",
    "<데이콘 고객 대출등급 분류 헤커톤>"
   ]
  },
  {
   "cell_type": "markdown",
   "metadata": {},
   "source": [
    "### 데이터 불러오기"
   ]
  },
  {
   "cell_type": "code",
   "execution_count": 1,
   "metadata": {},
   "outputs": [],
   "source": [
    "from zipfile import ZipFile\n",
    "import io\n",
    "with ZipFile(\"../Data/고객 대출등급 분류 해커톤.zip\",\"r\") as f:\n",
    "    data=io.BytesIO(f.read(\"고객 대출등급 분류 해커톤/train.csv\"))"
   ]
  },
  {
   "cell_type": "code",
   "execution_count": 2,
   "metadata": {},
   "outputs": [],
   "source": [
    "from pandas import read_csv\n",
    "data=read_csv(data)"
   ]
  },
  {
   "cell_type": "code",
   "execution_count": 3,
   "metadata": {},
   "outputs": [
    {
     "data": {
      "text/html": [
       "<div>\n",
       "<style scoped>\n",
       "    .dataframe tbody tr th:only-of-type {\n",
       "        vertical-align: middle;\n",
       "    }\n",
       "\n",
       "    .dataframe tbody tr th {\n",
       "        vertical-align: top;\n",
       "    }\n",
       "\n",
       "    .dataframe thead th {\n",
       "        text-align: right;\n",
       "    }\n",
       "</style>\n",
       "<table border=\"1\" class=\"dataframe\">\n",
       "  <thead>\n",
       "    <tr style=\"text-align: right;\">\n",
       "      <th></th>\n",
       "      <th>ID</th>\n",
       "      <th>대출금액</th>\n",
       "      <th>대출기간</th>\n",
       "      <th>근로기간</th>\n",
       "      <th>주택소유상태</th>\n",
       "      <th>연간소득</th>\n",
       "      <th>부채_대비_소득_비율</th>\n",
       "      <th>총계좌수</th>\n",
       "      <th>대출목적</th>\n",
       "      <th>최근_2년간_연체_횟수</th>\n",
       "      <th>총상환원금</th>\n",
       "      <th>총상환이자</th>\n",
       "      <th>총연체금액</th>\n",
       "      <th>연체계좌수</th>\n",
       "      <th>대출등급</th>\n",
       "    </tr>\n",
       "  </thead>\n",
       "  <tbody>\n",
       "    <tr>\n",
       "      <th>0</th>\n",
       "      <td>TRAIN_00000</td>\n",
       "      <td>12480000</td>\n",
       "      <td>36 months</td>\n",
       "      <td>6 years</td>\n",
       "      <td>RENT</td>\n",
       "      <td>72000000</td>\n",
       "      <td>18.90</td>\n",
       "      <td>15</td>\n",
       "      <td>부채 통합</td>\n",
       "      <td>0</td>\n",
       "      <td>0</td>\n",
       "      <td>0.0</td>\n",
       "      <td>0.0</td>\n",
       "      <td>0.0</td>\n",
       "      <td>C</td>\n",
       "    </tr>\n",
       "    <tr>\n",
       "      <th>1</th>\n",
       "      <td>TRAIN_00001</td>\n",
       "      <td>14400000</td>\n",
       "      <td>60 months</td>\n",
       "      <td>10+ years</td>\n",
       "      <td>MORTGAGE</td>\n",
       "      <td>130800000</td>\n",
       "      <td>22.33</td>\n",
       "      <td>21</td>\n",
       "      <td>주택 개선</td>\n",
       "      <td>0</td>\n",
       "      <td>373572</td>\n",
       "      <td>234060.0</td>\n",
       "      <td>0.0</td>\n",
       "      <td>0.0</td>\n",
       "      <td>B</td>\n",
       "    </tr>\n",
       "    <tr>\n",
       "      <th>2</th>\n",
       "      <td>TRAIN_00002</td>\n",
       "      <td>12000000</td>\n",
       "      <td>36 months</td>\n",
       "      <td>5 years</td>\n",
       "      <td>MORTGAGE</td>\n",
       "      <td>96000000</td>\n",
       "      <td>8.60</td>\n",
       "      <td>14</td>\n",
       "      <td>부채 통합</td>\n",
       "      <td>0</td>\n",
       "      <td>928644</td>\n",
       "      <td>151944.0</td>\n",
       "      <td>0.0</td>\n",
       "      <td>0.0</td>\n",
       "      <td>A</td>\n",
       "    </tr>\n",
       "    <tr>\n",
       "      <th>3</th>\n",
       "      <td>TRAIN_00003</td>\n",
       "      <td>14400000</td>\n",
       "      <td>36 months</td>\n",
       "      <td>8 years</td>\n",
       "      <td>MORTGAGE</td>\n",
       "      <td>132000000</td>\n",
       "      <td>15.09</td>\n",
       "      <td>15</td>\n",
       "      <td>부채 통합</td>\n",
       "      <td>0</td>\n",
       "      <td>325824</td>\n",
       "      <td>153108.0</td>\n",
       "      <td>0.0</td>\n",
       "      <td>0.0</td>\n",
       "      <td>C</td>\n",
       "    </tr>\n",
       "  </tbody>\n",
       "</table>\n",
       "</div>"
      ],
      "text/plain": [
       "            ID      대출금액        대출기간       근로기간    주택소유상태       연간소득  \\\n",
       "0  TRAIN_00000  12480000   36 months    6 years      RENT   72000000   \n",
       "1  TRAIN_00001  14400000   60 months  10+ years  MORTGAGE  130800000   \n",
       "2  TRAIN_00002  12000000   36 months    5 years  MORTGAGE   96000000   \n",
       "3  TRAIN_00003  14400000   36 months    8 years  MORTGAGE  132000000   \n",
       "\n",
       "   부채_대비_소득_비율  총계좌수   대출목적  최근_2년간_연체_횟수   총상환원금     총상환이자  총연체금액  연체계좌수 대출등급  \n",
       "0        18.90    15  부채 통합             0       0       0.0    0.0    0.0    C  \n",
       "1        22.33    21  주택 개선             0  373572  234060.0    0.0    0.0    B  \n",
       "2         8.60    14  부채 통합             0  928644  151944.0    0.0    0.0    A  \n",
       "3        15.09    15  부채 통합             0  325824  153108.0    0.0    0.0    C  "
      ]
     },
     "execution_count": 3,
     "metadata": {},
     "output_type": "execute_result"
    }
   ],
   "source": [
    "data.head(4)"
   ]
  },
  {
   "cell_type": "markdown",
   "metadata": {},
   "source": [
    "### 전처리\n",
    "\n",
    "tensorflow 의 Dataset API 에 대한 설명 이전이므로 table 형태로 사용하겠습니다."
   ]
  },
  {
   "cell_type": "code",
   "execution_count": 4,
   "metadata": {},
   "outputs": [
    {
     "data": {
      "text/plain": [
       "ID              0\n",
       "대출금액            0\n",
       "대출기간            0\n",
       "근로기간            0\n",
       "주택소유상태          0\n",
       "연간소득            0\n",
       "부채_대비_소득_비율     0\n",
       "총계좌수            0\n",
       "대출목적            0\n",
       "최근_2년간_연체_횟수    0\n",
       "총상환원금           0\n",
       "총상환이자           0\n",
       "총연체금액           0\n",
       "연체계좌수           0\n",
       "대출등급            0\n",
       "dtype: int64"
      ]
     },
     "execution_count": 4,
     "metadata": {},
     "output_type": "execute_result"
    }
   ],
   "source": [
    "# 표기된 nan 값은 없습니다\n",
    "data.isna().sum()"
   ]
  },
  {
   "cell_type": "code",
   "execution_count": 5,
   "metadata": {},
   "outputs": [
    {
     "data": {
      "text/plain": [
       "array([' 36 months', ' 60 months'], dtype=object)"
      ]
     },
     "execution_count": 5,
     "metadata": {},
     "output_type": "execute_result"
    }
   ],
   "source": [
    "data.대출기간.unique()"
   ]
  },
  {
   "cell_type": "markdown",
   "metadata": {},
   "source": [
    "근로기간 전처리"
   ]
  },
  {
   "cell_type": "code",
   "execution_count": 81,
   "metadata": {},
   "outputs": [],
   "source": [
    "from sklearn import pipeline as pip\n",
    "from sklearn import preprocessing as pre\n",
    "from sklearn import compose as com\n",
    "from sklearn import base as base\n",
    "from sklearn import impute as imp\n",
    "from sklearn import utils as utils\n",
    "from sklearn import model_selection as mod"
   ]
  },
  {
   "cell_type": "code",
   "execution_count": 6,
   "metadata": {},
   "outputs": [
    {
     "data": {
      "text/plain": [
       "array(['6 years', '10+ years', '5 years', '8 years', 'Unknown', '9 years',\n",
       "       '2 years', '1 year', '3 years', '7 years', '4 years', '< 1 year',\n",
       "       '10+years', '<1 year', '3', '1 years'], dtype=object)"
      ]
     },
     "execution_count": 6,
     "metadata": {},
     "output_type": "execute_result"
    }
   ],
   "source": [
    "data.근로기간.unique()"
   ]
  },
  {
   "cell_type": "code",
   "execution_count": 45,
   "metadata": {},
   "outputs": [],
   "source": [
    "import numpy as np\n",
    "class Processing_Period(base.BaseEstimator,base.TransformerMixin):\n",
    "    def __init__(self):\n",
    "        super().__init__()\n",
    "        self.__baseperiod__=[[\n",
    "            \"Unknown\",\n",
    "            \"<1\",\n",
    "            \"1\",\"2\",\"3\",\"4\",\"5\",\"6\",\"7\",\"8\",\"9\",\n",
    "            \"10+\"\n",
    "        ]]\n",
    "    def fit(self,X,y=None):\n",
    "        return self\n",
    "    def transform(self,X,y=None):\n",
    "        replace_X=[]\n",
    "        for sub_x in X:\n",
    "            if \"years\" in sub_x:\n",
    "                sub_=sub_x.replace(\"years\",\"\").replace(\" \",\"\").strip()\n",
    "            elif \"year\" in sub_x:\n",
    "                sub_=sub_x.replace(\"year\",\"\").replace(\" \",\"\").strip()\n",
    "            else:\n",
    "                sub_=sub_x.replace(\" \",\"\").strip()\n",
    "            replace_X.append(sub_)\n",
    "        return np.array(replace_X).reshape(-1,1)\n",
    "\n",
    "baseperiod__=[[\n",
    "            \"Unknown\",\n",
    "            \"<1\",\n",
    "            \"1\",\"2\",\"3\",\"4\",\"5\",\"6\",\"7\",\"8\",\"9\",\n",
    "            \"10+\"]]\n",
    "period_text_=pre.OrdinalEncoder(categories=baseperiod__)\n",
    "period_preprocessing=pip.Pipeline(\n",
    "    [(\"text_preprocessing\",Processing_Period()),\n",
    "     (\"ordinary_preprocessing\",period_text_)]\n",
    ")"
   ]
  },
  {
   "cell_type": "code",
   "execution_count": 47,
   "metadata": {},
   "outputs": [
    {
     "data": {
      "text/plain": [
       "array([[ 7.],\n",
       "       [11.],\n",
       "       [ 6.],\n",
       "       ...,\n",
       "       [ 2.],\n",
       "       [ 6.],\n",
       "       [11.]])"
      ]
     },
     "execution_count": 47,
     "metadata": {},
     "output_type": "execute_result"
    }
   ],
   "source": [
    "period_preprocessing.fit_transform(data.근로기간.tolist())"
   ]
  },
  {
   "cell_type": "markdown",
   "metadata": {},
   "source": [
    "대출기간\n",
    "\n",
    "두가지 값밖에 없어서 OneHotEncoder를 사용하겠습니다."
   ]
  },
  {
   "cell_type": "code",
   "execution_count": 54,
   "metadata": {},
   "outputs": [
    {
     "data": {
      "text/plain": [
       "array([' 36 months', ' 60 months'], dtype=object)"
      ]
     },
     "execution_count": 54,
     "metadata": {},
     "output_type": "execute_result"
    }
   ],
   "source": [
    "data.대출기간.unique() "
   ]
  },
  {
   "cell_type": "code",
   "execution_count": 56,
   "metadata": {},
   "outputs": [
    {
     "data": {
      "text/plain": [
       "array(['RENT', 'MORTGAGE', 'OWN', 'ANY'], dtype=object)"
      ]
     },
     "execution_count": 56,
     "metadata": {},
     "output_type": "execute_result"
    }
   ],
   "source": [
    "data.주택소유상태.unique()"
   ]
  },
  {
   "cell_type": "code",
   "execution_count": 58,
   "metadata": {},
   "outputs": [
    {
     "data": {
      "text/plain": [
       "array(['부채 통합', '주택 개선', '주요 구매', '휴가', '의료', '자동차', '신용 카드', '소규모 사업',\n",
       "       '기타', '이사', '주택', '재생 에너지'], dtype=object)"
      ]
     },
     "execution_count": 58,
     "metadata": {},
     "output_type": "execute_result"
    }
   ],
   "source": [
    "data.대출목적.unique()"
   ]
  },
  {
   "cell_type": "code",
   "execution_count": 61,
   "metadata": {},
   "outputs": [],
   "source": [
    "onehotencoder=pre.OneHotEncoder(categories=[[' 36 months', ' 60 months'],\n",
    "                              ['RENT', 'MORTGAGE', 'OWN', 'ANY'],\n",
    "                              ['부채 통합', '주택 개선', '주요 구매', '휴가', '의료', '자동차', '신용 카드', '소규모 사업',\n",
    "       '기타', '이사', '주택', '재생 에너지']],handle_unknown=\"ignore\",drop=\"if_binary\")"
   ]
  },
  {
   "cell_type": "markdown",
   "metadata": {},
   "source": [
    "#### 데이터 전처리를 마무리"
   ]
  },
  {
   "cell_type": "code",
   "execution_count": 69,
   "metadata": {},
   "outputs": [],
   "source": [
    "# 7개의 대출등급이 있네요.\n",
    "label_cates=data.대출등급.unique()\n",
    "label_cates.sort()\n",
    "print(label_cates)"
   ]
  },
  {
   "cell_type": "code",
   "execution_count": 80,
   "metadata": {},
   "outputs": [],
   "source": [
    "# 타겟도 다음과 같이 처리합니다.\n",
    "# 일반적으로 10개 이상일 경우 ordinary로 처리합니다. \n",
    "label_encoder=pre.LabelBinarizer() # softmax 형태\n",
    "\n",
    "label_encoder=pre.LabelEncoder() # 순서대로 처리"
   ]
  },
  {
   "cell_type": "code",
   "execution_count": 78,
   "metadata": {},
   "outputs": [
    {
     "name": "stdout",
     "output_type": "stream",
     "text": [
      "학습된 label 종류와 순서 : ['A' 'B' 'C' 'D' 'E' 'F' 'G']\n"
     ]
    }
   ],
   "source": [
    "label_encoder.fit(data.대출등급)\n",
    "print(\"학습된 label 종류와 순서 :\",label_encoder.classes_)"
   ]
  },
  {
   "cell_type": "code",
   "execution_count": 84,
   "metadata": {},
   "outputs": [],
   "source": [
    "num_cols=data.select_dtypes(np.number).columns"
   ]
  },
  {
   "cell_type": "code",
   "execution_count": 86,
   "metadata": {},
   "outputs": [
    {
     "data": {
      "text/plain": [
       "Index(['ID', '대출기간', '근로기간', '주택소유상태', '대출목적', '대출등급'], dtype='object')"
      ]
     },
     "execution_count": 86,
     "metadata": {},
     "output_type": "execute_result"
    }
   ],
   "source": [
    "data.select_dtypes(\"object\").columns"
   ]
  },
  {
   "cell_type": "code",
   "execution_count": 121,
   "metadata": {},
   "outputs": [],
   "source": [
    "features_pipeline=com.ColumnTransformer(\n",
    "    [(\"numeric\",pre.StandardScaler(),num_cols),\n",
    "     (\"근로기간\",period_preprocessing,\"근로기간\"),\n",
    "     (\"cates\",onehotencoder,['대출기간','주택소유상태','대출목적'])],remainder=\"drop\")"
   ]
  },
  {
   "cell_type": "code",
   "execution_count": 122,
   "metadata": {},
   "outputs": [],
   "source": [
    "label=\"대출등급\"\n",
    "features=data.columns.difference([label])"
   ]
  },
  {
   "cell_type": "markdown",
   "metadata": {},
   "source": [
    "변환"
   ]
  },
  {
   "cell_type": "code",
   "execution_count": 130,
   "metadata": {},
   "outputs": [],
   "source": [
    "use_X,use_y=features_pipeline.fit_transform(X=data[features]),label_encoder.fit_transform(data[label])"
   ]
  },
  {
   "cell_type": "code",
   "execution_count": 148,
   "metadata": {},
   "outputs": [],
   "source": [
    "train_X,test_X,train_y,test_y=mod.train_test_split(use_X,use_y,train_size=0.8,random_state=1,stratify=use_y)\n",
    "valid_X,test_X,valid_y,test_y=mod.train_test_split(test_X,test_y,train_size=0.8,random_state=1,stratify=test_y)"
   ]
  },
  {
   "cell_type": "markdown",
   "metadata": {},
   "source": [
    "### Keras Model\n",
    "\n",
    "케라스 모델링은 3가지 방법을 제시하고 있습니다.\n",
    "\n",
    "1. sequential - 간단함\n",
    "2. funtional - 복잡함 추가 + 유연성\n",
    "3. subclassing - 더 다양한 유연성 + (keras가 쉽게 검사하기 어려움)\n",
    "\n",
    "하나하나 따라해봅시다"
   ]
  },
  {
   "cell_type": "markdown",
   "metadata": {},
   "source": [
    "#### 1. Sequntial\n",
    "\n",
    "> 굉장히 간단하고 사용하기 편합니다"
   ]
  },
  {
   "cell_type": "code",
   "execution_count": 151,
   "metadata": {},
   "outputs": [
    {
     "name": "stderr",
     "output_type": "stream",
     "text": [
      "/Users/ijeonghun/Documents/github/DL/DL/lib/python3.9/site-packages/urllib3/__init__.py:35: NotOpenSSLWarning: urllib3 v2 only supports OpenSSL 1.1.1+, currently the 'ssl' module is compiled with 'LibreSSL 2.8.3'. See: https://github.com/urllib3/urllib3/issues/3020\n",
      "  warnings.warn(\n"
     ]
    }
   ],
   "source": [
    "import keras\n",
    "sequentail_model=keras.Sequential(\n",
    "    [keras.layers.Dense(units=64,activation=\"relu\"),\n",
    "     keras.layers.Dense(units=32,activation=\"relu\"),\n",
    "     keras.layers.Dense(units=1,activation=\"relu\")]\n",
    ")"
   ]
  },
  {
   "cell_type": "code",
   "execution_count": 152,
   "metadata": {},
   "outputs": [
    {
     "name": "stderr",
     "output_type": "stream",
     "text": [
      "2024-12-30 17:23:11.707894: I metal_plugin/src/device/metal_device.cc:1154] Metal device set to: Apple M3 Pro\n",
      "2024-12-30 17:23:11.707916: I metal_plugin/src/device/metal_device.cc:296] systemMemory: 36.00 GB\n",
      "2024-12-30 17:23:11.707922: I metal_plugin/src/device/metal_device.cc:313] maxCacheSize: 13.50 GB\n",
      "2024-12-30 17:23:11.708111: I tensorflow/core/common_runtime/pluggable_device/pluggable_device_factory.cc:305] Could not identify NUMA node of platform GPU ID 0, defaulting to 0. Your kernel may not have been built with NUMA support.\n",
      "2024-12-30 17:23:11.708125: I tensorflow/core/common_runtime/pluggable_device/pluggable_device_factory.cc:271] Created TensorFlow device (/job:localhost/replica:0/task:0/device:GPU:0 with 0 MB memory) -> physical PluggableDevice (device: 0, name: METAL, pci bus id: <undefined>)\n"
     ]
    }
   ],
   "source": [
    "sequentail_model.compile(optimizer=\"adam\",loss=\"sparse_categorical_crossentropy\",\n",
    "                         metrics=[\"accuracy\"])"
   ]
  },
  {
   "cell_type": "code",
   "execution_count": 154,
   "metadata": {},
   "outputs": [
    {
     "name": "stdout",
     "output_type": "stream",
     "text": [
      "Epoch 1/3\n",
      "\u001b[1m7704/7704\u001b[0m \u001b[32m━━━━━━━━━━━━━━━━━━━━\u001b[0m\u001b[37m\u001b[0m \u001b[1m68s\u001b[0m 9ms/step - accuracy: 0.1762 - loss: 0.0000e+00 - val_accuracy: 0.1741 - val_loss: 0.0000e+00\n",
      "Epoch 2/3\n",
      "\u001b[1m7704/7704\u001b[0m \u001b[32m━━━━━━━━━━━━━━━━━━━━\u001b[0m\u001b[37m\u001b[0m \u001b[1m65s\u001b[0m 8ms/step - accuracy: 0.1743 - loss: 0.0000e+00 - val_accuracy: 0.1741 - val_loss: 0.0000e+00\n",
      "Epoch 3/3\n",
      "\u001b[1m7704/7704\u001b[0m \u001b[32m━━━━━━━━━━━━━━━━━━━━\u001b[0m\u001b[37m\u001b[0m \u001b[1m66s\u001b[0m 9ms/step - accuracy: 0.1741 - loss: 0.0000e+00 - val_accuracy: 0.1741 - val_loss: 0.0000e+00\n"
     ]
    },
    {
     "data": {
      "text/plain": [
       "<keras.src.callbacks.history.History at 0x3575a8730>"
      ]
     },
     "execution_count": 154,
     "metadata": {},
     "output_type": "execute_result"
    }
   ],
   "source": [
    "sequentail_model.fit(x=train_X,y=train_y,epochs=3,batch_size=10,validation_data=(valid_X,valid_y),validation_batch_size=10)"
   ]
  },
  {
   "cell_type": "markdown",
   "metadata": {},
   "source": [
    "예시이므로 성능에 관련된 추가적인 설정은 미루겠습니다."
   ]
  },
  {
   "cell_type": "markdown",
   "metadata": {},
   "source": [
    "- 파이썬 문법 적용하기 \n",
    "\n",
    "> for, while, if 문 등등"
   ]
  },
  {
   "cell_type": "code",
   "execution_count": 157,
   "metadata": {},
   "outputs": [],
   "source": [
    "sequentail_model_2=keras.Sequential([])\n",
    "for layer_index in range(3):\n",
    "    if layer_index<=2:\n",
    "        sequentail_model_2.add(\n",
    "            keras.layers.Dense(64,activation=\"relu\")\n",
    "        )\n",
    "    else:\n",
    "        sequentail_model_2.add(\n",
    "            keras.layers.Dense(1,activation=\"relu\")\n",
    "        )"
   ]
  },
  {
   "cell_type": "markdown",
   "metadata": {},
   "source": [
    "#### 2. funtional\n",
    "\n",
    "> Sequential 과 다른 input layer의 정의가 필요합니다"
   ]
  },
  {
   "cell_type": "code",
   "execution_count": 170,
   "metadata": {},
   "outputs": [],
   "source": [
    "# None으로 정의하면 들어오는 데이터의 형태를 통해 정합니다.\n",
    "input_layer=keras.layers.Input(shape=use_X.shape[1:])"
   ]
  },
  {
   "cell_type": "code",
   "execution_count": 171,
   "metadata": {},
   "outputs": [],
   "source": [
    "hidden_layer_1=keras.layers.Dense(64,activation=\"relu\")(input_layer)\n",
    "hidden_layer_2=keras.layers.Dense(64,activation=\"relu\")(hidden_layer_1)\n",
    "output_layer=keras.layers.Dense(1,activation=\"relu\")(hidden_layer_2)"
   ]
  },
  {
   "cell_type": "code",
   "execution_count": 172,
   "metadata": {},
   "outputs": [],
   "source": [
    "functional_model=keras.Model(inputs=input_layer,outputs=output_layer)"
   ]
  },
  {
   "cell_type": "markdown",
   "metadata": {},
   "source": [
    "#### 3. subclassing"
   ]
  },
  {
   "cell_type": "markdown",
   "metadata": {},
   "source": [
    "위의 예시를 직접 해본다면 `hidden_layer_1`에서 문제가 생김을 알수 있습니다.\n",
    "\n",
    "즉 데이터의 기본적인 구조를 요구하는 구조라는 뜻입니다.\n",
    "\n",
    "이를 해결하기 위해선 더 강한 유연성이 필요합니다."
   ]
  },
  {
   "cell_type": "code",
   "execution_count": 177,
   "metadata": {},
   "outputs": [],
   "source": [
    "class SubclassingModel(keras.Model):\n",
    "    def __init__(self,units:int,activation:str=\"relu\",*args, **kwargs):\n",
    "        super().__init__(*args, **kwargs)\n",
    "        self.hidden_layer_1=keras.layers.Dense(units,activation=activation)\n",
    "        self.hidden_layer_2=keras.layers.Dense(units,activation=activation)\n",
    "        self.output_layer=keras.layers.Dense(1,activation=activation)\n",
    "\n",
    "    def call(self,inputs):\n",
    "        hidden_1=self.hidden_layer_1(inputs)\n",
    "        hidden_2=self.hidden_layer_1(hidden_1)\n",
    "        output=self.output_layer(hidden_2)\n",
    "        return output"
   ]
  },
  {
   "cell_type": "code",
   "execution_count": 178,
   "metadata": {},
   "outputs": [],
   "source": [
    "subclass_model=SubclassingModel(units=64,activation=\"relu\")"
   ]
  },
  {
   "cell_type": "markdown",
   "metadata": {},
   "source": [
    "위의 예시처럼 서브클래싱 방법은 `Input`객체를 생성하지 않고 `call`메서드를 통해 inputs 를 호출합니다."
   ]
  },
  {
   "cell_type": "markdown",
   "metadata": {},
   "source": [
    "#### 주의사항\n",
    "\n",
    "`Keras.Model` 은 `input`과 `oupput` 속성을 가지고 있어서 변수명이 겹치지않게 조심하여야합니다"
   ]
  },
  {
   "cell_type": "markdown",
   "metadata": {},
   "source": [
    "### 모델의 저장과 불러오기\n",
    "\n",
    "앞으로 우리는 여러 프로젝트를 진행하면서 한번에 완벽한 모델을 완성할 수 없습니다.\n",
    "\n",
    "따라서 keras에서 생성된 모델을 저장하고 불러오는 법을 알아보겠습니다."
   ]
  },
  {
   "cell_type": "markdown",
   "metadata": {},
   "source": [
    "> keras3 를 사용중이면 (keras 단독으로)핸즈온에서 설명하는 방법으로 저장할 수 없습니다. 확장자명은 `.keras` ,`.h5` 둘중 하나를 사용해야합니다"
   ]
  },
  {
   "cell_type": "markdown",
   "metadata": {},
   "source": [
    "케라스 버전"
   ]
  },
  {
   "cell_type": "code",
   "execution_count": 187,
   "metadata": {},
   "outputs": [],
   "source": [
    "sequentail_model.save(\"my_sequential_model.keras\")"
   ]
  },
  {
   "cell_type": "markdown",
   "metadata": {},
   "source": [
    "텐서플로우의 `SaveModel` 포멧을 사용하기 위해선 아래의 방법을 사용합니다"
   ]
  },
  {
   "cell_type": "code",
   "execution_count": 193,
   "metadata": {},
   "outputs": [
    {
     "name": "stdout",
     "output_type": "stream",
     "text": [
      "INFO:tensorflow:Assets written to: my_sequential_model/assets\n"
     ]
    },
    {
     "name": "stderr",
     "output_type": "stream",
     "text": [
      "INFO:tensorflow:Assets written to: my_sequential_model/assets\n"
     ]
    }
   ],
   "source": [
    "import tensorflow as tf\n",
    "tf.saved_model.save(sequentail_model,\"my_sequential_model\")"
   ]
  },
  {
   "cell_type": "markdown",
   "metadata": {},
   "source": [
    "후자의 방법이 `tensorflow`에서 요구하는 포멧입니다.\n",
    "\n",
    "또한 `asset`디렉토리에 변수명 중 다양한 정보를 저장해놓을 수 있습니다(기본적으로 빈 디렉토리입니다)"
   ]
  }
 ],
 "metadata": {
  "kernelspec": {
   "display_name": "DL",
   "language": "python",
   "name": "python3"
  },
  "language_info": {
   "codemirror_mode": {
    "name": "ipython",
    "version": 3
   },
   "file_extension": ".py",
   "mimetype": "text/x-python",
   "name": "python",
   "nbconvert_exporter": "python",
   "pygments_lexer": "ipython3",
   "version": "3.9.6"
  }
 },
 "nbformat": 4,
 "nbformat_minor": 2
}
