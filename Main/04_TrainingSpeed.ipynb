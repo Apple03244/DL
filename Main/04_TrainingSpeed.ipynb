{
 "cells": [
  {
   "cell_type": "markdown",
   "metadata": {},
   "source": [
    "## 훈련속도\n",
    "\n",
    "앞서 모델을 생성하고, 모델은 어떻게 훈련하며, 그 과정에서 발생하는 그레디언트 이슈를 해결하는 방법에 대해 익혔습니다.\n",
    "\n",
    "1차로 좋은 활성화 함수와 초기화 전략을 활용해 모델의 학습속도를 향상시킬 수 있음을 알았습니다.\n",
    "\n",
    "신경망 모델을 훈련함에 있어서 훈련속도를 개선하기 위해 어떤 전략들을 활용할 수 있는지 알아보겠습니다."
   ]
  },
  {
   "cell_type": "markdown",
   "metadata": {},
   "source": [
    "### Tensorflow Dataset API\n",
    "\n",
    "대용량 데이터를 다룰 때 굉장히 유용한 API입니다.\n",
    "\n",
    "이에 대한 자세한 설명은 이 다음 장에서 이어가겠습니다.\n",
    "\n",
    "이는 아래와 다른 기게적(기능적) 속도 향상에 도움이 되는 파트라 분리했습니다"
   ]
  },
  {
   "cell_type": "markdown",
   "metadata": {},
   "source": [
    "### Transfer Training(전이학습)\n",
    "\n",
    "우리가 채택할 수 있는 굉장히 좋은 전략입니다.\n",
    "\n",
    "전이학습은 우리가 해결하려는 문제와 비슷한 유형의 문제를 처리한 신경망의 일부를 재사용하는 방법입니다.\n",
    "\n",
    "아래와 같은 환경을 생각해보자."
   ]
  },
  {
   "cell_type": "code",
   "execution_count": 47,
   "metadata": {},
   "outputs": [],
   "source": [
    "from zipfile import ZipFile\n",
    "import pandas as pd\n",
    "import io\n",
    "with ZipFile(\"../Data/고객 대출등급 분류 해커톤.zip\",\"r\") as f:\n",
    "    data=io.BytesIO(f.read(\"고객 대출등급 분류 해커톤/train.csv\"))\n",
    "from sklearn import model_selection as mod\n",
    "import numpy as np\n",
    "\n",
    "data=pd.read_csv(data)"
   ]
  },
  {
   "cell_type": "code",
   "execution_count": 48,
   "metadata": {},
   "outputs": [],
   "source": [
    "import keras\n",
    "\n",
    "loaded_model=keras.models.load_model(\"Simple_Model.keras\")"
   ]
  },
  {
   "cell_type": "code",
   "execution_count": 49,
   "metadata": {},
   "outputs": [
    {
     "data": {
      "text/html": [
       "<pre style=\"white-space:pre;overflow-x:auto;line-height:normal;font-family:Menlo,'DejaVu Sans Mono',consolas,'Courier New',monospace\"><span style=\"font-weight: bold\">Model: \"sequential_9\"</span>\n",
       "</pre>\n"
      ],
      "text/plain": [
       "\u001b[1mModel: \"sequential_9\"\u001b[0m\n"
      ]
     },
     "metadata": {},
     "output_type": "display_data"
    },
    {
     "data": {
      "text/html": [
       "<pre style=\"white-space:pre;overflow-x:auto;line-height:normal;font-family:Menlo,'DejaVu Sans Mono',consolas,'Courier New',monospace\">┏━━━━━━━━━━━━━━━━━━━━━━━━━━━━━━━━━┳━━━━━━━━━━━━━━━━━━━━━━━━┳━━━━━━━━━━━━━━━┓\n",
       "┃<span style=\"font-weight: bold\"> Layer (type)                    </span>┃<span style=\"font-weight: bold\"> Output Shape           </span>┃<span style=\"font-weight: bold\">       Param # </span>┃\n",
       "┡━━━━━━━━━━━━━━━━━━━━━━━━━━━━━━━━━╇━━━━━━━━━━━━━━━━━━━━━━━━╇━━━━━━━━━━━━━━━┩\n",
       "│ dense_58 (<span style=\"color: #0087ff; text-decoration-color: #0087ff\">Dense</span>)                │ (<span style=\"color: #00d7ff; text-decoration-color: #00d7ff\">None</span>, <span style=\"color: #00af00; text-decoration-color: #00af00\">64</span>)             │           <span style=\"color: #00af00; text-decoration-color: #00af00\">640</span> │\n",
       "├─────────────────────────────────┼────────────────────────┼───────────────┤\n",
       "│ dense_59 (<span style=\"color: #0087ff; text-decoration-color: #0087ff\">Dense</span>)                │ (<span style=\"color: #00d7ff; text-decoration-color: #00d7ff\">None</span>, <span style=\"color: #00af00; text-decoration-color: #00af00\">64</span>)             │         <span style=\"color: #00af00; text-decoration-color: #00af00\">4,160</span> │\n",
       "├─────────────────────────────────┼────────────────────────┼───────────────┤\n",
       "│ dense_60 (<span style=\"color: #0087ff; text-decoration-color: #0087ff\">Dense</span>)                │ (<span style=\"color: #00d7ff; text-decoration-color: #00d7ff\">None</span>, <span style=\"color: #00af00; text-decoration-color: #00af00\">64</span>)             │         <span style=\"color: #00af00; text-decoration-color: #00af00\">4,160</span> │\n",
       "├─────────────────────────────────┼────────────────────────┼───────────────┤\n",
       "│ dense_61 (<span style=\"color: #0087ff; text-decoration-color: #0087ff\">Dense</span>)                │ (<span style=\"color: #00d7ff; text-decoration-color: #00d7ff\">None</span>, <span style=\"color: #00af00; text-decoration-color: #00af00\">64</span>)             │         <span style=\"color: #00af00; text-decoration-color: #00af00\">4,160</span> │\n",
       "├─────────────────────────────────┼────────────────────────┼───────────────┤\n",
       "│ dense_62 (<span style=\"color: #0087ff; text-decoration-color: #0087ff\">Dense</span>)                │ (<span style=\"color: #00d7ff; text-decoration-color: #00d7ff\">None</span>, <span style=\"color: #00af00; text-decoration-color: #00af00\">64</span>)             │         <span style=\"color: #00af00; text-decoration-color: #00af00\">4,160</span> │\n",
       "├─────────────────────────────────┼────────────────────────┼───────────────┤\n",
       "│ dense_63 (<span style=\"color: #0087ff; text-decoration-color: #0087ff\">Dense</span>)                │ (<span style=\"color: #00d7ff; text-decoration-color: #00d7ff\">None</span>, <span style=\"color: #00af00; text-decoration-color: #00af00\">7</span>)              │           <span style=\"color: #00af00; text-decoration-color: #00af00\">455</span> │\n",
       "└─────────────────────────────────┴────────────────────────┴───────────────┘\n",
       "</pre>\n"
      ],
      "text/plain": [
       "┏━━━━━━━━━━━━━━━━━━━━━━━━━━━━━━━━━┳━━━━━━━━━━━━━━━━━━━━━━━━┳━━━━━━━━━━━━━━━┓\n",
       "┃\u001b[1m \u001b[0m\u001b[1mLayer (type)                   \u001b[0m\u001b[1m \u001b[0m┃\u001b[1m \u001b[0m\u001b[1mOutput Shape          \u001b[0m\u001b[1m \u001b[0m┃\u001b[1m \u001b[0m\u001b[1m      Param #\u001b[0m\u001b[1m \u001b[0m┃\n",
       "┡━━━━━━━━━━━━━━━━━━━━━━━━━━━━━━━━━╇━━━━━━━━━━━━━━━━━━━━━━━━╇━━━━━━━━━━━━━━━┩\n",
       "│ dense_58 (\u001b[38;5;33mDense\u001b[0m)                │ (\u001b[38;5;45mNone\u001b[0m, \u001b[38;5;34m64\u001b[0m)             │           \u001b[38;5;34m640\u001b[0m │\n",
       "├─────────────────────────────────┼────────────────────────┼───────────────┤\n",
       "│ dense_59 (\u001b[38;5;33mDense\u001b[0m)                │ (\u001b[38;5;45mNone\u001b[0m, \u001b[38;5;34m64\u001b[0m)             │         \u001b[38;5;34m4,160\u001b[0m │\n",
       "├─────────────────────────────────┼────────────────────────┼───────────────┤\n",
       "│ dense_60 (\u001b[38;5;33mDense\u001b[0m)                │ (\u001b[38;5;45mNone\u001b[0m, \u001b[38;5;34m64\u001b[0m)             │         \u001b[38;5;34m4,160\u001b[0m │\n",
       "├─────────────────────────────────┼────────────────────────┼───────────────┤\n",
       "│ dense_61 (\u001b[38;5;33mDense\u001b[0m)                │ (\u001b[38;5;45mNone\u001b[0m, \u001b[38;5;34m64\u001b[0m)             │         \u001b[38;5;34m4,160\u001b[0m │\n",
       "├─────────────────────────────────┼────────────────────────┼───────────────┤\n",
       "│ dense_62 (\u001b[38;5;33mDense\u001b[0m)                │ (\u001b[38;5;45mNone\u001b[0m, \u001b[38;5;34m64\u001b[0m)             │         \u001b[38;5;34m4,160\u001b[0m │\n",
       "├─────────────────────────────────┼────────────────────────┼───────────────┤\n",
       "│ dense_63 (\u001b[38;5;33mDense\u001b[0m)                │ (\u001b[38;5;45mNone\u001b[0m, \u001b[38;5;34m7\u001b[0m)              │           \u001b[38;5;34m455\u001b[0m │\n",
       "└─────────────────────────────────┴────────────────────────┴───────────────┘\n"
      ]
     },
     "metadata": {},
     "output_type": "display_data"
    },
    {
     "data": {
      "text/html": [
       "<pre style=\"white-space:pre;overflow-x:auto;line-height:normal;font-family:Menlo,'DejaVu Sans Mono',consolas,'Courier New',monospace\"><span style=\"font-weight: bold\"> Total params: </span><span style=\"color: #00af00; text-decoration-color: #00af00\">53,207</span> (207.84 KB)\n",
       "</pre>\n"
      ],
      "text/plain": [
       "\u001b[1m Total params: \u001b[0m\u001b[38;5;34m53,207\u001b[0m (207.84 KB)\n"
      ]
     },
     "metadata": {},
     "output_type": "display_data"
    },
    {
     "data": {
      "text/html": [
       "<pre style=\"white-space:pre;overflow-x:auto;line-height:normal;font-family:Menlo,'DejaVu Sans Mono',consolas,'Courier New',monospace\"><span style=\"font-weight: bold\"> Trainable params: </span><span style=\"color: #00af00; text-decoration-color: #00af00\">17,735</span> (69.28 KB)\n",
       "</pre>\n"
      ],
      "text/plain": [
       "\u001b[1m Trainable params: \u001b[0m\u001b[38;5;34m17,735\u001b[0m (69.28 KB)\n"
      ]
     },
     "metadata": {},
     "output_type": "display_data"
    },
    {
     "data": {
      "text/html": [
       "<pre style=\"white-space:pre;overflow-x:auto;line-height:normal;font-family:Menlo,'DejaVu Sans Mono',consolas,'Courier New',monospace\"><span style=\"font-weight: bold\"> Non-trainable params: </span><span style=\"color: #00af00; text-decoration-color: #00af00\">0</span> (0.00 B)\n",
       "</pre>\n"
      ],
      "text/plain": [
       "\u001b[1m Non-trainable params: \u001b[0m\u001b[38;5;34m0\u001b[0m (0.00 B)\n"
      ]
     },
     "metadata": {},
     "output_type": "display_data"
    },
    {
     "data": {
      "text/html": [
       "<pre style=\"white-space:pre;overflow-x:auto;line-height:normal;font-family:Menlo,'DejaVu Sans Mono',consolas,'Courier New',monospace\"><span style=\"font-weight: bold\"> Optimizer params: </span><span style=\"color: #00af00; text-decoration-color: #00af00\">35,472</span> (138.57 KB)\n",
       "</pre>\n"
      ],
      "text/plain": [
       "\u001b[1m Optimizer params: \u001b[0m\u001b[38;5;34m35,472\u001b[0m (138.57 KB)\n"
      ]
     },
     "metadata": {},
     "output_type": "display_data"
    }
   ],
   "source": [
    "loaded_model.summary()"
   ]
  },
  {
   "cell_type": "markdown",
   "metadata": {},
   "source": [
    "위의 모델은 이전 장에서 학습완료한 모델입니다.\n",
    "\n",
    "1차적으로 연석형 변수만 사용해 학습한 모델이였습니다.\n",
    "\n",
    "또한 SELU를 사용하기 위해 연속형 데이터를 모두 정규화 시켰었습니다.\n",
    "\n",
    "정규화 처리 층을 모델에 이식해주고 싶다면 다음과 같은 작업을 하면 되겠죠"
   ]
  },
  {
   "cell_type": "code",
   "execution_count": 50,
   "metadata": {},
   "outputs": [],
   "source": [
    "cloned_model=keras.models.clone_model(loaded_model) # 모델 클로닝\n",
    "# 모델 클로닝은 구조만 복사하기 떄문에 가중치를 업데이트 해줘야합니다\n",
    "\n",
    "cloned_model.set_weights(loaded_model.get_weights())"
   ]
  },
  {
   "cell_type": "markdown",
   "metadata": {},
   "source": [
    "위 방법의 장점은 `loaded_model`의 일부층을 사용하더라도 발생하는 영향을 배제할 수 있다는 것입니다."
   ]
  },
  {
   "cell_type": "markdown",
   "metadata": {},
   "source": [
    "만일 범주형 데이터까지 고려한 wide_deep model 에 위의 모델을 사용하고 싶다면,\n",
    "(물론 selu의 자기정규성을 위한 조건에 맞지않아 성능이 떨어질 수 있습니다만)\n",
    "\n",
    "다음과 같이 층을 분리해내면 됩니다.\n",
    "\n",
    "(임베딩 layer를 채택하는게 좋은 상황이지만, 기본적으로 sklearn,pandas 에서 했던 방법을 최대한 유지하겠습니다)"
   ]
  },
  {
   "cell_type": "code",
   "execution_count": 55,
   "metadata": {},
   "outputs": [],
   "source": [
    "import numpy as np\n",
    "\n",
    "obj_col=\"대출목적\"\n",
    "num_col=data.select_dtypes(np.number).columns.to_list()\n",
    "\n",
    "clone_layer=cloned_model.layers[:-1] #output layer 분리\n",
    "\n",
    "for layer in clone_layer:\n",
    "    layer.trainable=False\n",
    "\n",
    "# trainable 을 False로 고정"
   ]
  },
  {
   "cell_type": "code",
   "execution_count": 56,
   "metadata": {},
   "outputs": [],
   "source": [
    "stringlookup=keras.layers.StringLookup() # 텍스트 범주형 데이터 전처리\n",
    "stringlookup.adapt(data[obj_col].values)\n",
    "\n",
    "# 위를 기반으로 onehot encoding\n",
    "category=keras.layers.CategoryEncoding(num_tokens=len(stringlookup.get_vocabulary()),\n",
    "                                       output_mode=\"one_hot\")"
   ]
  },
  {
   "cell_type": "code",
   "execution_count": 57,
   "metadata": {},
   "outputs": [
    {
     "data": {
      "text/plain": [
       "<tf.Tensor: shape=(3, 13), dtype=float32, numpy=\n",
       "array([[0., 1., 0., 0., 0., 0., 0., 0., 0., 0., 0., 0., 0.],\n",
       "       [0., 0., 0., 1., 0., 0., 0., 0., 0., 0., 0., 0., 0.],\n",
       "       [0., 1., 0., 0., 0., 0., 0., 0., 0., 0., 0., 0., 0.]],\n",
       "      dtype=float32)>"
      ]
     },
     "execution_count": 57,
     "metadata": {},
     "output_type": "execute_result"
    }
   ],
   "source": [
    "# 다음과 같이 one_hot encoding 됩니다\n",
    "category(stringlookup(data[obj_col].values[:3]))"
   ]
  },
  {
   "cell_type": "code",
   "execution_count": 59,
   "metadata": {},
   "outputs": [],
   "source": [
    "# selu 를 사용하기 위해 정규화\n",
    "obj_normalization=keras.layers.Normalization()\n",
    "obj_normalization.adapt(category(stringlookup(data[obj_col].values)))\n",
    "\n",
    "normalization=keras.layers.Normalization()\n",
    "normalization.adapt(data[num_col].values)"
   ]
  },
  {
   "cell_type": "code",
   "execution_count": 118,
   "metadata": {},
   "outputs": [],
   "source": [
    "num_input=keras.Input(shape=(9,),name=\"연속형\")\n",
    "cate_input=keras.Input(shape=(13,),name=\"대출목적(범주형)\")\n",
    "inputs_saving=(num_input,cate_input)\n",
    "\n",
    "\n",
    "num_pipe=keras.Sequential(clone_layer)\n",
    "num_input=num_pipe(num_input)\n",
    "\n",
    "initialize=keras.initializers.lecun_normal()\n",
    "\n",
    "for _ in range(2):\n",
    "    sub_layer=keras.layers.Dense(units=64,activation=\"selu\",kernel_initializer=initialize)\n",
    "    cate_input=sub_layer(cate_input)\n",
    "\n",
    "\n",
    "concat=keras.layers.Concatenate()([num_input,cate_input])\n",
    "outputs=keras.layers.Dense(7,activation=\"sigmoid\",kernel_initializer=initialize)(concat)\n",
    "\n",
    "New_model=keras.Model(inputs=inputs_saving,outputs=outputs)"
   ]
  },
  {
   "cell_type": "code",
   "execution_count": 119,
   "metadata": {},
   "outputs": [],
   "source": [
    "optimizer=keras.optimizers.AdamW()\n",
    "loss=keras.losses.SparseCategoricalCrossentropy()\n",
    "metric_list=[keras.metrics.SparseCategoricalAccuracy()]\n",
    "\n",
    "New_model.compile(optimizer=optimizer,loss=loss,metrics=metric_list)"
   ]
  },
  {
   "cell_type": "code",
   "execution_count": 120,
   "metadata": {},
   "outputs": [],
   "source": [
    "num_cols=list(data.select_dtypes(np.number).columns)\n",
    "\n",
    "use_feature=data[num_cols+[obj_col]]\n",
    "label_list=data.대출등급.unique()\n",
    "label_list.sort()\n",
    "\n",
    "use_label=data.대출등급.map(lambda label : np.argmax(label_list==label))\n",
    "\n",
    "train_feature,test_feature,train_label,test_label=mod.train_test_split(\n",
    "    use_feature,use_label,train_size=0.9,stratify=use_label,random_state=1)"
   ]
  },
  {
   "cell_type": "code",
   "execution_count": 121,
   "metadata": {},
   "outputs": [],
   "source": [
    "num_train=normalization(train_feature.loc[:,num_cols])\n",
    "obj_train=obj_normalization(\n",
    "    category(stringlookup(train_feature[obj_col].values))\n",
    ")\n",
    "\n",
    "num_test=normalization(test_feature.loc[:,num_cols])\n",
    "obj_test=obj_normalization(\n",
    "    category(stringlookup(test_feature[obj_col].values))\n",
    ")"
   ]
  },
  {
   "cell_type": "code",
   "execution_count": 126,
   "metadata": {},
   "outputs": [
    {
     "name": "stdout",
     "output_type": "stream",
     "text": [
      "Epoch 1/5\n",
      "\u001b[1m5417/5417\u001b[0m \u001b[32m━━━━━━━━━━━━━━━━━━━━\u001b[0m\u001b[37m\u001b[0m \u001b[1m53s\u001b[0m 10ms/step - loss: 0.4173 - sparse_categorical_accuracy: 0.8461 - val_loss: 0.4135 - val_sparse_categorical_accuracy: 0.8497\n",
      "Epoch 2/5\n",
      "\u001b[1m5417/5417\u001b[0m \u001b[32m━━━━━━━━━━━━━━━━━━━━\u001b[0m\u001b[37m\u001b[0m \u001b[1m51s\u001b[0m 9ms/step - loss: 0.4049 - sparse_categorical_accuracy: 0.8505 - val_loss: 0.4079 - val_sparse_categorical_accuracy: 0.8520\n",
      "Epoch 3/5\n",
      "\u001b[1m5417/5417\u001b[0m \u001b[32m━━━━━━━━━━━━━━━━━━━━\u001b[0m\u001b[37m\u001b[0m \u001b[1m52s\u001b[0m 10ms/step - loss: 0.4044 - sparse_categorical_accuracy: 0.8520 - val_loss: 0.4062 - val_sparse_categorical_accuracy: 0.8498\n",
      "Epoch 4/5\n",
      "\u001b[1m5417/5417\u001b[0m \u001b[32m━━━━━━━━━━━━━━━━━━━━\u001b[0m\u001b[37m\u001b[0m \u001b[1m52s\u001b[0m 10ms/step - loss: 0.3975 - sparse_categorical_accuracy: 0.8552 - val_loss: 0.3999 - val_sparse_categorical_accuracy: 0.8530\n",
      "Epoch 5/5\n",
      "\u001b[1m5417/5417\u001b[0m \u001b[32m━━━━━━━━━━━━━━━━━━━━\u001b[0m\u001b[37m\u001b[0m \u001b[1m53s\u001b[0m 10ms/step - loss: 0.4003 - sparse_categorical_accuracy: 0.8539 - val_loss: 0.3974 - val_sparse_categorical_accuracy: 0.8518\n"
     ]
    },
    {
     "data": {
      "text/plain": [
       "<keras.src.callbacks.history.History at 0x3859c68b0>"
      ]
     },
     "execution_count": 126,
     "metadata": {},
     "output_type": "execute_result"
    }
   ],
   "source": [
    "callbacks=[keras.callbacks.EarlyStopping(monitor=\"val_loss\",patience=2)]\n",
    "New_model.fit(x=(num_train,obj_train),y=train_label.values,batch_size=16,epochs=5\n",
    "              ,validation_data=((num_test,obj_test),test_label.values),\n",
    "                 callbacks=callbacks)"
   ]
  },
  {
   "cell_type": "markdown",
   "metadata": {},
   "source": [
    "이후 위의 동결된 부분(`cloned layer`)의 `trainable=True`로 설정한 뒤 다시 재학습 시키면 됩니다.\n",
    "\n",
    "이와 같은 전이학습은 비슷한 적업의 모델을 재사용함으로써 성능과 속도 모두 충족시키는 좋은 방법입니다.(예시를 위해 같은 데이터를 사용하였습니다)\n",
    "\n",
    "__전이학습의 주의점__\n",
    "\n",
    "> 전이학습은 작은 완전연결 네트워크에서 잘 작동하지 않습니다. (이는 특정패턴을 학습하는데 집중되기 때문입니다.)\n",
    "\n",
    "> 따라서 일반적인 특성을 학습하는 심층 합성곱 신경망(특히 아래층)에서 잘 작동합니다\n",
    "\n"
   ]
  },
  {
   "cell_type": "markdown",
   "metadata": {},
   "source": [
    "### 비지도 사전 학습\n",
    "\n",
    "- 오토인코더 혹은 생성적 적대 신경망과 같은 비지도 학습 모델을 학습시킨 뒤 하위층을 활용\n",
    "\n",
    "- 탐욕적 층 단위 사전훈련 기법"
   ]
  },
  {
   "cell_type": "markdown",
   "metadata": {},
   "source": [
    "### 고속옵티마이저 \n",
    "\n",
    "전통적(표준적으로 사용되는)인 경사하강 옵티마이저 대신 더 빠른 옵티마이저를 선택하는 것도 좋은 방법입니다.\n",
    "\n",
    "이에 대한 설명은 굉장히 길고 복잡하므로 Tensorflow Dataset API 이후 설명하겠습니다"
   ]
  },
  {
   "cell_type": "markdown",
   "metadata": {},
   "source": [
    "#### 학습률 스케줄링\n",
    "\n",
    "우선 기본적이 설명은 표준적인 경사하강법을 사용해 설명하겠습니다.\n",
    "\n",
    "좋은 학습률($\\eta$)을 찾는 것은 굉장히 중요합니다.\n",
    "\n",
    "작은 학습률은 수렴하기에 안정적이지만, 초기 훈련 속도를 증가시킵니다.\n",
    "\n",
    "큰 학습률은 초기 훈련속도를 증가시킬 수 있지만, 수렴하지 못할 리스크를 증가시킵니다(심지어 지나치게 크면 발산할 수 있습니다)\n",
    "\n",
    "이후 공부할 `Keras Tuner`를 통한 학습률 튜닝 방법은 그리드 서치와 유사한 방법으로,\n",
    "\n",
    "작은 학습률에서 큰 학습률(혹은 역순)순으로 대입해가며 학습곡선을 보며, 좋은 학습률을 찾아냅니다."
   ]
  },
  {
   "cell_type": "markdown",
   "metadata": {},
   "source": [
    "위 전략보다 더 좋은 전략은 학습동안 학습률이 큰 값에서 작은 값으로 변화해가는 것입니다.\n",
    "\n",
    "편의를 위해 반복횟수를 $t$, 학습률을 $\\eta$ , 지정 스텝 수(step)를 $s$(하이퍼 파라미터)로 나타냅니다."
   ]
  },
  {
   "cell_type": "markdown",
   "metadata": {},
   "source": [
    "* 거듭제곱\n",
    "\n",
    "    $\\eta(t)=\\eta_0/(1+t/s)^c$\n",
    "    \n",
    "    일반적으로 c=1 입니다(튜닝할 수 있습니다)"
   ]
  },
  {
   "cell_type": "markdown",
   "metadata": {},
   "source": [
    "* __지수__\n",
    "\n",
    "    $\\eta(t)=\\eta_0*(0.1)^{t/s}$"
   ]
  },
  {
   "cell_type": "code",
   "execution_count": 144,
   "metadata": {},
   "outputs": [
    {
     "data": {
      "image/png": "[encoded data removed]",
      "text/plain": [
       "<Figure size 640x480 with 1 Axes>"
      ]
     },
     "metadata": {},
     "output_type": "display_data"
    }
   ],
   "source": [
    "from matplotlib import pyplot as plt\n",
    "import numpy as np\n",
    "from scipy import stats as sts\n",
    "\n",
    "epoch_t=range(0,10)\n",
    "lr_0=0.01\n",
    "s=2\n",
    "\n",
    "def learninig_scheduler(lr_0,epoch):\n",
    "    return lr_0*(0.1)**(epoch/s)\n",
    "\n",
    "learing_rates=list(map(lambda epoch : learninig_scheduler(lr_0,epoch),epoch_t))\n",
    "plt.plot(learing_rates)\n",
    "plt.grid()"
   ]
  },
  {
   "cell_type": "markdown",
   "metadata": {},
   "source": [
    "* 구간별 고정\n",
    "\n",
    "    일정 횟수의 에포크동안 고정된 학습률을 사용하고, 다음 일정 횟수동안 보다 작은 학습률로 학습합니다.\n",
    "    \n",
    "    이는 횟수와 학습률의 조합을 튜닝해야해서 널리 사용되지 않습니다 "
   ]
  },
  {
   "cell_type": "markdown",
   "metadata": {},
   "source": [
    "* 성능\n",
    "\n",
    "    n 스텝마다 검증 오차를 측정하고, 오차가 줄어들지 않으면 $\\lambda$ 만큼 $\\eta$를 감소시킵니다"
   ]
  },
  {
   "cell_type": "markdown",
   "metadata": {},
   "source": [
    "* __1사이클__\n",
    "\n",
    "    - 1. 훈련 절반동안 초기 학습률 $\\eta_0$를 선형적으로 $\\eta_1$까지 증가시킵니다.\n",
    "    - 2. 다음 절반동안 선형적으로 학습률을 $\\eta_0$로 선형적으로 감소시킵니다.\n",
    "    - 3. 남은 몇번의 에포크동안 학습률을 소수점 자리까지 선형적으로 감소시킵니다.\n",
    "    \n",
    "    >모멘텀은 위와 반대로 (감소)-(증가)-(최댓값유지) 로 진행됩니다(모멘텀 개념은 고속옵티마이저 설명에 추가하겠습니다)"
   ]
  },
  {
   "cell_type": "markdown",
   "metadata": {},
   "source": [
    "주로 선호되는 지수기반, 1사이클 스케쥴링을 구현하고 사용해보죠."
   ]
  },
  {
   "cell_type": "code",
   "execution_count": 146,
   "metadata": {},
   "outputs": [],
   "source": [
    "# 1. learning_rate 직접 전달\n",
    "\n",
    "lr_scheduler=keras.optimizers.schedules.ExponentialDecay(initial_learning_rate=0.005,decay_steps=10,decay_rate=0.1)\n",
    "sgd=keras.optimizers.SGD(learning_rate=lr_scheduler)"
   ]
  },
  {
   "cell_type": "code",
   "execution_count": 148,
   "metadata": {},
   "outputs": [],
   "source": [
    "# 2. Callback 에 전달\n",
    "\n",
    "def schedule_function(epoch,lr): # 에포크,초기 학습률 순으로 매개변수를 받을 수 있습니다\n",
    "    return lr*(0.1)**(epoch/10) # decay_step,decay_rate 가 하드코딩되었습니다\n",
    "\n",
    "lr_schedule_callback=keras.callbacks.LearningRateScheduler(schedule=schedule_function)"
   ]
  },
  {
   "cell_type": "markdown",
   "metadata": {},
   "source": [
    "1Cycle Scheduler\n",
    "\n",
    "- 전체 훈련을 1Cycle로 보는 기본버전\n",
    "- 일부 훈련을 1Cycle을 사용하는 변형버전\n",
    "\n",
    "두 가지를 고려해 데코레이터 함수를 만들겠습니다."
   ]
  },
  {
   "cell_type": "code",
   "execution_count": 150,
   "metadata": {},
   "outputs": [],
   "source": [
    "def onecycle(cycle_size,epochs,max_lr):\n",
    "    # 일반적으로 초기 훈련량은 최적(혹은 최대) 훈련량의 1/10입니다\n",
    "    cycle=int(epochs*cycle_size)\n",
    "    sub_lr_step=max_lr*0.9/int(cycle/2)\n",
    "    def lr_func(epoch,lr):\n",
    "        if epoch<=cycle/2:\n",
    "            return lr+sub_lr_step*epoch\n",
    "        elif epoch> cycle:\n",
    "            return lr\n",
    "        else:\n",
    "            return lr+sub_lr_step*(cycle-epoch)\n",
    "    return lr_func"
   ]
  },
  {
   "cell_type": "markdown",
   "metadata": {},
   "source": [
    "한번 테스트해보죠.\n",
    "\n",
    "이전에 만든 모델을 수렴할때까지 훈련시켜보겠습니다."
   ]
  },
  {
   "cell_type": "code",
   "execution_count": 226,
   "metadata": {},
   "outputs": [],
   "source": [
    "cloned_model=keras.models.clone_model(loaded_model) # 모델 클로닝"
   ]
  },
  {
   "cell_type": "code",
   "execution_count": 232,
   "metadata": {},
   "outputs": [],
   "source": [
    "optimizer=keras.optimizers.SGD(learning_rate=0.01)\n",
    "loss=keras.losses.SparseCategoricalCrossentropy()\n",
    "metric_list=[keras.metrics.SparseCategoricalAccuracy()]\n",
    "\n",
    "cloned_model.compile(optimizer,loss,metrics=metric_list)"
   ]
  },
  {
   "cell_type": "code",
   "execution_count": 233,
   "metadata": {},
   "outputs": [],
   "source": [
    "def closer_exp_lr(decay_rate,decay_step):\n",
    "    def exp_lr(epoch,lr):\n",
    "        return lr*(decay_rate)**(epoch/decay_step)\n",
    "    return exp_lr\n",
    "    \n",
    "learing_rate_schedule=closer_exp_lr(0.1,10)\n",
    "\n",
    "callbacks=[keras.callbacks.EarlyStopping(monitor=\"val_loss\",patience=10)]\n",
    "lr_schedule=keras.callbacks.LearningRateScheduler(learing_rate_schedule)\n",
    "callbacks.append(lr_schedule)"
   ]
  },
  {
   "cell_type": "code",
   "execution_count": 234,
   "metadata": {},
   "outputs": [
    {
     "data": {
      "text/plain": [
       "[<keras.src.callbacks.early_stopping.EarlyStopping at 0x3b5ee9790>,\n",
       " <keras.src.callbacks.learning_rate_scheduler.LearningRateScheduler at 0x3b62c2c10>]"
      ]
     },
     "execution_count": 234,
     "metadata": {},
     "output_type": "execute_result"
    }
   ],
   "source": [
    "callbacks"
   ]
  },
  {
   "cell_type": "code",
   "execution_count": null,
   "metadata": {},
   "outputs": [],
   "source": [
    "history=cloned_model.fit(x=num_train,y=train_label.values,batch_size=256,epochs=100\n",
    "              ,validation_data=(num_test,test_label.values),\n",
    "                 callbacks=callbacks)"
   ]
  }
 ],
 "metadata": {
  "kernelspec": {
   "display_name": "DL",
   "language": "python",
   "name": "dl"
  },
  "language_info": {
   "codemirror_mode": {
    "name": "ipython",
    "version": 3
   },
   "file_extension": ".py",
   "mimetype": "text/x-python",
   "name": "python",
   "nbconvert_exporter": "python",
   "pygments_lexer": "ipython3",
   "version": "3.9.6"
  }
 },
 "nbformat": 4,
 "nbformat_minor": 2
}
